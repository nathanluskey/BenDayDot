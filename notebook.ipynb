{
 "cells": [
  {
   "cell_type": "code",
   "execution_count": 2,
   "metadata": {},
   "outputs": [
    {
     "name": "stdout",
     "output_type": "stream",
     "text": [
      "Python Version: 3.7.1\n",
      "Installed Pillow Version: 8.4.0\n",
      "Installed Numpy Version: 1.21.2\n"
     ]
    }
   ],
   "source": [
    "import numpy as np\n",
    "import PIL\n",
    "import platform\n",
    "\n",
    "# Check versions\n",
    "print(\"Python Version:\", platform.python_version())\n",
    "print(\"Installed Pillow Version:\", PIL.__version__)\n",
    "print(\"Installed Numpy Version:\", np.__version__)"
   ]
  },
  {
   "cell_type": "markdown",
   "metadata": {},
   "source": [
    "TODO:\n",
    "* K-Means clustering for primary colors in image - I think sklearn K-means, gaussian, and dbscan should be interesting [documentation](https://scikit-learn.org/stable/modules/clustering.html).\n",
    "* Ben Day dots in recursive fashion(?) - if color less than some acceptable spread, then dot. Otherwise, subdivide into kinda squares and move on"
   ]
  },
  {
   "cell_type": "code",
   "execution_count": null,
   "metadata": {},
   "outputs": [],
   "source": [
    "# https://www.geeksforgeeks.org/how-to-convert-images-to-numpy-array/\n",
    "# https://scikit-image.org/docs/stable/user_guide/getting_started.html"
   ]
  }
 ],
 "metadata": {
  "interpreter": {
   "hash": "ac9f3c7ed6381ecb0fd0de02643b487993d048d83e6c34b80c20080a152d67df"
  },
  "kernelspec": {
   "display_name": "Python 3.9.7 64-bit ('BenDayDot': conda)",
   "language": "python",
   "name": "python3"
  },
  "language_info": {
   "codemirror_mode": {
    "name": "ipython",
    "version": 3
   },
   "file_extension": ".py",
   "mimetype": "text/x-python",
   "name": "python",
   "nbconvert_exporter": "python",
   "pygments_lexer": "ipython3",
   "version": "3.9.7"
  },
  "orig_nbformat": 4
 },
 "nbformat": 4,
 "nbformat_minor": 2
}
