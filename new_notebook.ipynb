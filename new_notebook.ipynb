{
 "cells": [
  {
   "cell_type": "code",
   "execution_count": null,
   "metadata": {},
   "outputs": [],
   "source": [
    "import os"
   ]
  },
  {
   "cell_type": "markdown",
   "metadata": {},
   "source": [
    "- Move utilities from notebook.ipynb into a common folder\n",
    "- Investigate Segment Anything model\n",
    "- "
   ]
  },
  {
   "cell_type": "code",
   "execution_count": null,
   "metadata": {},
   "outputs": [],
   "source": [
    "# TODO: Kmeans clustering from previous notebook"
   ]
  },
  {
   "cell_type": "code",
   "execution_count": null,
   "metadata": {},
   "outputs": [],
   "source": [
    "# TODO: Run segment anything code on an image\n",
    "# https://github.com/facebookresearch/segment-anything/blob/main/notebooks/automatic_mask_generator_example.ipynb"
   ]
  },
  {
   "cell_type": "code",
   "execution_count": null,
   "metadata": {},
   "outputs": [],
   "source": [
    "import numpy as np\n",
    "\n",
    "# Create a sample 2D array\n",
    "array_2d = np.array([[1, 2],\n",
    "                     [3, 4]])\n",
    "\n",
    "# Standardize the data\n",
    "mean = np.mean(array_2d, axis=0)\n",
    "std_dev = np.std(array_2d, axis=0)\n",
    "standardized_array = (array_2d - mean) / std_dev\n",
    "\n",
    "# Calculate the covariance matrix\n",
    "cov_matrix = np.cov(standardized_array, rowvar=False)\n",
    "\n",
    "# Calculate the eigenvectors and eigenvalues\n",
    "eigenvalues, eigenvectors = np.linalg.eigh(cov_matrix)\n",
    "\n",
    "# Find the rotation angle\n",
    "rotation_angle = np.arctan2(eigenvectors[1, 0], eigenvectors[0, 0])\n",
    "\n",
    "# Rotate the standardized array\n",
    "rotated_array = np.dot(standardized_array, np.array([[np.cos(rotation_angle), -np.sin(rotation_angle)],\n",
    "                                                     [np.sin(rotation_angle), np.cos(rotation_angle)]]))\n",
    "\n",
    "print(\"Original Array:\")\n",
    "print(array_2d)\n",
    "print(\"\\nStandardized Array:\")\n",
    "print(standardized_array)\n",
    "print(\"\\nRotated Array:\")\n",
    "print(rotated_array)\n"
   ]
  }
 ],
 "metadata": {
  "language_info": {
   "name": "python"
  }
 },
 "nbformat": 4,
 "nbformat_minor": 2
}
